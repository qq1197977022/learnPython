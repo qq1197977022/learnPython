{
 "cells": [
  {
   "cell_type": "code",
   "execution_count": 35,
   "metadata": {
    "collapsed": false
   },
   "outputs": [
    {
     "name": "stdout",
     "output_type": "stream",
     "text": [
      "<class 'numpy.ndarray'>\n[['Year' 'WHO region' 'Country' 'Beverage Types' 'Display Value']\n ['1986' 'Western Pacific' 'Viet Nam' 'Wine' '0']\n ['1986' 'Americas' 'Uruguay' 'Other' '0.5']\n ..., \n ['1987' 'Africa' 'Malawi' 'Other' '0.75']\n ['1989' 'Americas' 'Bahamas' 'Wine' '1.5']\n ['1985' 'Africa' 'Malawi' 'Spirits' '0.31']]------\n<class 'numpy.ndarray'>\n[1 2 3]\n(3,)------\n<class 'numpy.ndarray'>\n[[1 2 3]\n [1 2 3]]\n(2, 3)------\n"
     ]
    }
   ],
   "source": [
    "import numpy\n",
    "ndarr1 = numpy.genfromtxt('D:\\\\workspace\\\\python\\\\AI\\\\02_科学计算库Numpy\\\\data\\world_alcohol.txt', dtype=str, delimiter=',')\n",
    "print(type(ndarr1), ndarr1, sep='\\n', end='------\\n')\n",
    "\n",
    "ndarr2 = numpy.array([1, 2, 3])\n",
    "ndarr3 = numpy.array([[1, 2, 3], [1, 2, 3]])\n",
    "\n",
    "print(type(ndarr2), ndarr2, ndarr2.shape, sep='\\n',end='------\\n')\n",
    "print(type(ndarr3), ndarr3, ndarr3.shape, sep='\\n', end='------\\n')\n"
   ]
  },
  {
   "cell_type": "code",
   "execution_count": null,
   "metadata": {},
   "outputs": [],
   "source": []
  },
  {
   "cell_type": "code",
   "execution_count": null,
   "metadata": {},
   "outputs": [],
   "source": []
  }
 ],
 "metadata": {
  "kernelspec": {
   "display_name": "Python 2",
   "language": "python",
   "name": "python2"
  },
  "language_info": {
   "codemirror_mode": {
    "name": "ipython",
    "version": 2
   },
   "file_extension": ".py",
   "mimetype": "text/x-python",
   "name": "python",
   "nbconvert_exporter": "python",
   "pygments_lexer": "ipython2",
   "version": "2.7.6"
  }
 },
 "nbformat": 4,
 "nbformat_minor": 0
}
